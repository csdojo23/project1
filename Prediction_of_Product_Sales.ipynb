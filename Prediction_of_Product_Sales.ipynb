{
  "nbformat": 4,
  "nbformat_minor": 0,
  "metadata": {
    "colab": {
      "provenance": [],
      "authorship_tag": "ABX9TyOU4dauuSC8fQkZ4P8bSHvR",
      "include_colab_link": true
    },
    "kernelspec": {
      "name": "python3",
      "display_name": "Python 3"
    },
    "language_info": {
      "name": "python"
    }
  },
  "cells": [
    {
      "cell_type": "markdown",
      "metadata": {
        "id": "view-in-github",
        "colab_type": "text"
      },
      "source": [
        "<a href=\"https://colab.research.google.com/github/csdojo23/project1/blob/main/Prediction_of_Product_Sales.ipynb\" target=\"_parent\"><img src=\"https://colab.research.google.com/assets/colab-badge.svg\" alt=\"Open In Colab\"/></a>"
      ]
    },
    {
      "cell_type": "markdown",
      "source": [
        "# Project Title: Prediction of Product Sales\n",
        "- Author: Caroline Schmitt"
      ],
      "metadata": {
        "id": "giFFDTzuFSpc"
      }
    },
    {
      "cell_type": "code",
      "source": [],
      "metadata": {
        "id": "oKKYAaXiFVmb"
      },
      "execution_count": null,
      "outputs": []
    },
    {
      "cell_type": "markdown",
      "source": [
        "## \"Project Overview\""
      ],
      "metadata": {
        "id": "IsjVYkYuFVq8"
      }
    },
    {
      "cell_type": "code",
      "source": [],
      "metadata": {
        "id": "OynP-cugFVvU"
      },
      "execution_count": null,
      "outputs": []
    },
    {
      "cell_type": "markdown",
      "source": [
        "## \"Load and Inspect Data\""
      ],
      "metadata": {
        "id": "nVZL-yxyFVzd"
      }
    },
    {
      "cell_type": "code",
      "source": [],
      "metadata": {
        "id": "6VHan-2zFV3b"
      },
      "execution_count": null,
      "outputs": []
    },
    {
      "cell_type": "markdown",
      "source": [
        "## \"Clean Data\""
      ],
      "metadata": {
        "id": "kH9eCU0eFV7D"
      }
    },
    {
      "cell_type": "code",
      "source": [],
      "metadata": {
        "id": "yZo8RVFWFhBk"
      },
      "execution_count": null,
      "outputs": []
    },
    {
      "cell_type": "markdown",
      "source": [
        "## \"Exploratory Data Analysis\""
      ],
      "metadata": {
        "id": "I7uSpWyYFhQC"
      }
    },
    {
      "cell_type": "code",
      "source": [],
      "metadata": {
        "id": "qrIF9yu4FkS1"
      },
      "execution_count": null,
      "outputs": []
    },
    {
      "cell_type": "markdown",
      "source": [
        "## \"Feature Inspection\""
      ],
      "metadata": {
        "id": "edTFGPVBFkwm"
      }
    },
    {
      "cell_type": "code",
      "source": [],
      "metadata": {
        "id": "izoM7C73FmCA"
      },
      "execution_count": null,
      "outputs": []
    }
  ]
}